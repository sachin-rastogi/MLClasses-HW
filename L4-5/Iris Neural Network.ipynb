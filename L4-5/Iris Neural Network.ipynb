{
 "cells": [
  {
   "cell_type": "markdown",
   "metadata": {},
   "source": [
    "## Chris's ML - L4/5 Home work\n",
    "#### Iris dataset\n",
    "\t○ Determine issue with one classification"
   ]
  },
  {
   "cell_type": "markdown",
   "metadata": {},
   "source": [
    "# Application of Neural Network over Iris Dataset\n",
    "\n",
    "## Import Libraries"
   ]
  },
  {
   "cell_type": "code",
   "execution_count": 1,
   "metadata": {},
   "outputs": [],
   "source": [
    "import numpy as np\n",
    "from matplotlib import pyplot as plt\n",
    "from sklearn import datasets"
   ]
  },
  {
   "cell_type": "markdown",
   "metadata": {},
   "source": [
    "# Load the Iris Data Set"
   ]
  },
  {
   "cell_type": "code",
   "execution_count": 2,
   "metadata": {},
   "outputs": [
    {
     "name": "stdout",
     "output_type": "stream",
     "text": [
      "(150, 4)\n",
      "(150, 1)\n",
      "[0 0 0 0 0 0 0 0 0 0 0 0 0 0 0 0 0 0 0 0 0 0 0 0 0 0 0 0 0 0 0 0 0 0 0 0 0\n",
      " 0 0 0 0 0 0 0 0 0 0 0 0 0 1 1 1 1 1 1 1 1 1 1 1 1 1 1 1 1 1 1 1 1 1 1 1 1\n",
      " 1 1 1 1 1 1 1 1 1 1 1 1 1 1 1 1 1 1 1 1 1 1 1 1 1 1 2 2 2 2 2 2 2 2 2 2 2\n",
      " 2 2 2 2 2 2 2 2 2 2 2 2 2 2 2 2 2 2 2 2 2 2 2 2 2 2 2 2 2 2 2 2 2 2 2 2 2\n",
      " 2 2]\n",
      "float64\n"
     ]
    }
   ],
   "source": [
    "iris = datasets.load_iris()\n",
    "X = iris.data\n",
    "y = np.atleast_2d(iris.target).T\n",
    "print((X.shape))\n",
    "print((y.shape))\n",
    "print(iris.target)\n",
    "#print(len(X[0]))\n",
    "print(X.dtype)"
   ]
  },
  {
   "cell_type": "code",
   "execution_count": 3,
   "metadata": {},
   "outputs": [],
   "source": [
    "np.set_printoptions(precision=4, suppress=True)"
   ]
  },
  {
   "cell_type": "code",
   "execution_count": 4,
   "metadata": {},
   "outputs": [
    {
     "name": "stderr",
     "output_type": "stream",
     "text": [
      "/anaconda3/lib/python3.6/site-packages/h5py/__init__.py:36: FutureWarning: Conversion of the second argument of issubdtype from `float` to `np.floating` is deprecated. In future, it will be treated as `np.float64 == np.dtype(float).type`.\n",
      "  from ._conv import register_converters as _register_converters\n"
     ]
    },
    {
     "name": "stdout",
     "output_type": "stream",
     "text": [
      "Before one Hot Encoding, Shape of y (150, 1)\n",
      "[[0]\n",
      " [0]\n",
      " [0]\n",
      " [0]\n",
      " [0]]\n",
      "After one Hot Encoding, Shape of y (150, 3)\n",
      "[[1. 0. 0.]\n",
      " [1. 0. 0.]\n",
      " [1. 0. 0.]\n",
      " [1. 0. 0.]\n",
      " [1. 0. 0.]\n",
      " [1. 0. 0.]\n",
      " [1. 0. 0.]\n",
      " [1. 0. 0.]\n",
      " [1. 0. 0.]\n",
      " [1. 0. 0.]\n",
      " [1. 0. 0.]\n",
      " [1. 0. 0.]\n",
      " [1. 0. 0.]\n",
      " [1. 0. 0.]\n",
      " [1. 0. 0.]\n",
      " [1. 0. 0.]\n",
      " [1. 0. 0.]\n",
      " [1. 0. 0.]\n",
      " [1. 0. 0.]\n",
      " [1. 0. 0.]\n",
      " [1. 0. 0.]\n",
      " [1. 0. 0.]\n",
      " [1. 0. 0.]\n",
      " [1. 0. 0.]\n",
      " [1. 0. 0.]\n",
      " [1. 0. 0.]\n",
      " [1. 0. 0.]\n",
      " [1. 0. 0.]\n",
      " [1. 0. 0.]\n",
      " [1. 0. 0.]\n",
      " [1. 0. 0.]\n",
      " [1. 0. 0.]\n",
      " [1. 0. 0.]\n",
      " [1. 0. 0.]\n",
      " [1. 0. 0.]\n",
      " [1. 0. 0.]\n",
      " [1. 0. 0.]\n",
      " [1. 0. 0.]\n",
      " [1. 0. 0.]\n",
      " [1. 0. 0.]\n",
      " [1. 0. 0.]\n",
      " [1. 0. 0.]\n",
      " [1. 0. 0.]\n",
      " [1. 0. 0.]\n",
      " [1. 0. 0.]\n",
      " [1. 0. 0.]\n",
      " [1. 0. 0.]\n",
      " [1. 0. 0.]\n",
      " [1. 0. 0.]\n",
      " [1. 0. 0.]\n",
      " [0. 1. 0.]\n",
      " [0. 1. 0.]\n",
      " [0. 1. 0.]\n",
      " [0. 1. 0.]\n",
      " [0. 1. 0.]\n",
      " [0. 1. 0.]\n",
      " [0. 1. 0.]\n",
      " [0. 1. 0.]\n",
      " [0. 1. 0.]\n",
      " [0. 1. 0.]\n",
      " [0. 1. 0.]\n",
      " [0. 1. 0.]\n",
      " [0. 1. 0.]\n",
      " [0. 1. 0.]\n",
      " [0. 1. 0.]\n",
      " [0. 1. 0.]\n",
      " [0. 1. 0.]\n",
      " [0. 1. 0.]\n",
      " [0. 1. 0.]\n",
      " [0. 1. 0.]\n",
      " [0. 1. 0.]\n",
      " [0. 1. 0.]\n",
      " [0. 1. 0.]\n",
      " [0. 1. 0.]\n",
      " [0. 1. 0.]\n",
      " [0. 1. 0.]\n",
      " [0. 1. 0.]\n",
      " [0. 1. 0.]\n",
      " [0. 1. 0.]\n",
      " [0. 1. 0.]\n",
      " [0. 1. 0.]\n",
      " [0. 1. 0.]\n",
      " [0. 1. 0.]\n",
      " [0. 1. 0.]\n",
      " [0. 1. 0.]\n",
      " [0. 1. 0.]\n",
      " [0. 1. 0.]\n",
      " [0. 1. 0.]\n",
      " [0. 1. 0.]\n",
      " [0. 1. 0.]\n",
      " [0. 1. 0.]\n",
      " [0. 1. 0.]\n",
      " [0. 1. 0.]\n",
      " [0. 1. 0.]\n",
      " [0. 1. 0.]\n",
      " [0. 1. 0.]\n",
      " [0. 1. 0.]\n",
      " [0. 1. 0.]\n",
      " [0. 1. 0.]\n",
      " [0. 1. 0.]\n",
      " [0. 0. 1.]\n",
      " [0. 0. 1.]\n",
      " [0. 0. 1.]\n",
      " [0. 0. 1.]\n",
      " [0. 0. 1.]\n",
      " [0. 0. 1.]\n",
      " [0. 0. 1.]\n",
      " [0. 0. 1.]\n",
      " [0. 0. 1.]\n",
      " [0. 0. 1.]\n",
      " [0. 0. 1.]\n",
      " [0. 0. 1.]\n",
      " [0. 0. 1.]\n",
      " [0. 0. 1.]\n",
      " [0. 0. 1.]\n",
      " [0. 0. 1.]\n",
      " [0. 0. 1.]\n",
      " [0. 0. 1.]\n",
      " [0. 0. 1.]\n",
      " [0. 0. 1.]\n",
      " [0. 0. 1.]\n",
      " [0. 0. 1.]\n",
      " [0. 0. 1.]\n",
      " [0. 0. 1.]\n",
      " [0. 0. 1.]\n",
      " [0. 0. 1.]\n",
      " [0. 0. 1.]\n",
      " [0. 0. 1.]\n",
      " [0. 0. 1.]\n",
      " [0. 0. 1.]\n",
      " [0. 0. 1.]\n",
      " [0. 0. 1.]\n",
      " [0. 0. 1.]\n",
      " [0. 0. 1.]\n",
      " [0. 0. 1.]\n",
      " [0. 0. 1.]\n",
      " [0. 0. 1.]\n",
      " [0. 0. 1.]\n",
      " [0. 0. 1.]\n",
      " [0. 0. 1.]\n",
      " [0. 0. 1.]\n",
      " [0. 0. 1.]\n",
      " [0. 0. 1.]\n",
      " [0. 0. 1.]\n",
      " [0. 0. 1.]\n",
      " [0. 0. 1.]\n",
      " [0. 0. 1.]\n",
      " [0. 0. 1.]\n",
      " [0. 0. 1.]\n",
      " [0. 0. 1.]]\n"
     ]
    }
   ],
   "source": [
    "#Change the label to one hot vector\n",
    "import tensorflow as tf\n",
    "\n",
    "'''\n",
    "[0]--->[1 0 0]\n",
    "[1]--->[0 1 0]\n",
    "[2]--->[0 0 1]\n",
    "'''\n",
    "print(\"Before one Hot Encoding, Shape of y\",y.shape)\n",
    "print(y[:5])\n",
    "\n",
    "y = tf.keras.utils.to_categorical(y, num_classes=3)\n",
    "\n",
    "print(\"After one Hot Encoding, Shape of y\",y.shape)\n",
    "print(y)"
   ]
  },
  {
   "cell_type": "markdown",
   "metadata": {},
   "source": [
    "# Define Functions"
   ]
  },
  {
   "cell_type": "code",
   "execution_count": 5,
   "metadata": {},
   "outputs": [],
   "source": [
    "def sigmoid(x, derivative=False):\n",
    "    if derivative:\n",
    "        return x * (1 - x)\n",
    "    return 1 / (1 + np.exp(-x))"
   ]
  },
  {
   "cell_type": "code",
   "execution_count": 6,
   "metadata": {},
   "outputs": [],
   "source": [
    "def feedforward(X):\n",
    "    z_h = np.dot(X, w01)\n",
    "    a_h = sigmoid(z_h)\n",
    "\n",
    "    z_o = np.dot(a_h, w12)\n",
    "    a_o = sigmoid(z_o)\n",
    "    return(a_o,a_h)"
   ]
  },
  {
   "cell_type": "markdown",
   "metadata": {},
   "source": [
    "# Define Parameters"
   ]
  },
  {
   "cell_type": "code",
   "execution_count": 7,
   "metadata": {},
   "outputs": [],
   "source": [
    "# Learning Rate\n",
    "eta = 0.01\n",
    "\n",
    "# Number of epochs for learning\n",
    "epochs = 2000\n",
    "\n",
    "# Number of Hidden Neurons\n",
    "hidden = 10"
   ]
  },
  {
   "cell_type": "markdown",
   "metadata": {},
   "source": [
    "# Initialize the weights"
   ]
  },
  {
   "cell_type": "code",
   "execution_count": 8,
   "metadata": {},
   "outputs": [],
   "source": [
    "# numpy.random.randn generates samples from the normal distribution, while numpy.random.rand \n",
    "# from unifrom (in range [0,1)).\n",
    "\n",
    "# Second, why uniform distribution didn't work? The main reason in this is activation function,\n",
    "# especially in your case where you use sigmoid function. The plot of the sigmoid looks like \n",
    "# following:\n",
    "\n",
    "# So you can see that if your input is away from 0, the slope of the function decreases quite \n",
    "# fast and as a result you get a tiny gradient and tiny weight update. And if you have many \n",
    "# layers - those gradients get multiplied many times in the back pass, so even \"proper\" \n",
    "# gradients after multiplications become small and stop making any influence. So if you have \n",
    "# a lot of weights which bring your input to those regions you network is hardly trainable. \n",
    "# That's why it is a usual practice to initialize network variables around zero value. This \n",
    "# is done to ensure that you get reasonable gradients (close to 1) to train your net.\n",
    "\n",
    "# However, uniform distribution is not something completely undesirable, you just need to make\n",
    "# the range smaller and closer to zero. As one of good practices is using Xavier \n",
    "# initialization. In this approach you can initialize your weights with:\n",
    "\n",
    "#1) Normal distribution. Where mean is 0 and var = sqrt(2. / (in + out)), where in - is the \n",
    "# number of inputs to the neurons and out - number of outputs.\n",
    "\n",
    "#2)Unifrom distribution in range [-sqrt(6. / (in + out)), +sqrt(6. / (in + out))]\n",
    "\n",
    "# numpy.random.random(size=None)\n",
    "# Return random floats in the half-open interval [0.0, 1.0).\n",
    "# Results are from the “continuous uniform” distribution. \n",
    "# E.g. [0.0,1.0) means greater than or equal to 0.0 and less than 1.0\n",
    "\n",
    "# numpy.random.randn(d0, d1, ..., dn)\n",
    "# Return a sample (or samples) from the “standard normal” distribution.\n",
    "\n",
    "# If positive, int_like or int-convertible arguments are provided, randn generates an array \n",
    "# of shape (d0, d1, ..., dn), filled with random floats sampled from a univariate “normal” \n",
    "#(Gaussian) distribution of mean 0 and variance 1 (if any of the d_i are floats, they are \n",
    "# first converted to integers by truncation). A single float randomly sampled from the \n",
    "# distribution is returned if no argument is provided."
   ]
  },
  {
   "cell_type": "code",
   "execution_count": 9,
   "metadata": {},
   "outputs": [
    {
     "name": "stdout",
     "output_type": "stream",
     "text": [
      "(4, 10)\n",
      "(10, 3)\n"
     ]
    }
   ],
   "source": [
    "w01 = np.random.random((len(X[0]), hidden)) # Provide value between \n",
    "w12 = np.random.random((hidden, 3)) \n",
    "\n",
    "# Let's try to reduce the weight \n",
    "w01 = np.true_divide(w01, 3)\n",
    "w12 = np.true_divide(w12, 3)\n",
    "\n",
    "#w01 = np.random.randn(len(X[0]), hidden)\n",
    "#w12 = np.random.randn(hidden, 3) \n",
    "\n",
    "print(w01.shape)\n",
    "print(w12.shape)"
   ]
  },
  {
   "cell_type": "markdown",
   "metadata": {},
   "source": [
    "# Start feeding forward and backpropagate *epochs* times."
   ]
  },
  {
   "cell_type": "code",
   "execution_count": 10,
   "metadata": {},
   "outputs": [
    {
     "name": "stdout",
     "output_type": "stream",
     "text": [
      "Epoch: 0/2000 Total Error 101.5190\n",
      "Epoch: 100/2000 Total Error 27.2239\n",
      "Epoch: 200/2000 Total Error 21.3378\n",
      "Epoch: 300/2000 Total Error 19.0263\n",
      "Epoch: 400/2000 Total Error 13.3393\n",
      "Epoch: 500/2000 Total Error 8.6628\n",
      "Epoch: 600/2000 Total Error 6.4888\n",
      "Epoch: 700/2000 Total Error 5.3960\n",
      "Epoch: 800/2000 Total Error 4.7699\n",
      "Epoch: 900/2000 Total Error 4.3783\n",
      "Epoch: 1000/2000 Total Error 4.1148\n",
      "Epoch: 1100/2000 Total Error 3.9266\n",
      "Epoch: 1200/2000 Total Error 3.7855\n",
      "Epoch: 1300/2000 Total Error 3.6757\n",
      "Epoch: 1400/2000 Total Error 3.5874\n",
      "Epoch: 1500/2000 Total Error 3.5146\n",
      "Epoch: 1600/2000 Total Error 3.4532\n",
      "Epoch: 1700/2000 Total Error 3.4005\n",
      "Epoch: 1800/2000 Total Error 3.3546\n",
      "Epoch: 1900/2000 Total Error 3.3140\n"
     ]
    }
   ],
   "source": [
    "error_total=[]\n",
    "error_total0=[]\n",
    "error_total1=[]\n",
    "error_total2=[]\n",
    "\n",
    "for epoch in range(epochs):\n",
    "    a_o, a_h = feedforward(X)\n",
    "    \n",
    "    # Calculate the error\n",
    "    a_o_error = ((1 / 2) * (np.power((a_o - y), 2)))\n",
    "    #print(sum(a_o_error[50:100,]))\n",
    "    #output(150,3)\n",
    "    \n",
    "    a_o_err_y = np.concatenate((a_o_error,y), axis=1)\n",
    "    #print (a_o_err_y[:,4])\n",
    "    \n",
    "    #a_o_err_y0 = a_o_err_y[a_o_err_y[:,3]==1][:,0]\n",
    "    #a_o_err_y1 = a_o_err_y[a_o_err_y[:,4]==1][:,1]\n",
    "    #a_o_err_y2 = a_o_err_y[a_o_err_y[:,5]==1][:,2]\n",
    "    a_o_err_y0 = a_o_err_y[:,0]\n",
    "    a_o_err_y1 = a_o_err_y[:,1]\n",
    "    a_o_err_y2 = a_o_err_y[:,2]\n",
    "    \n",
    "    error_total = np.append(error_total,sum(a_o_error))\n",
    "    error_total0 = np.append(error_total0,sum(a_o_err_y0))\n",
    "    error_total1 = np.append(error_total1,sum(a_o_err_y1))\n",
    "    error_total2 = np.append(error_total2,sum(a_o_err_y2))\n",
    "    \n",
    "    # Backpropagation\n",
    "    ## Output to Hidden Layer weights\n",
    "    delta_a_o_error = a_o - y\n",
    "    delta_z_o = sigmoid(a_o,derivative=True)\n",
    "    delta_w12 = a_h\n",
    "    delta_output_layer = np.dot(delta_w12.T,(delta_a_o_error * delta_z_o))\n",
    "\n",
    "    ## Hidden to Input Layer weights\n",
    "    delta_a_h = np.dot(delta_a_o_error * delta_z_o, w12.T)\n",
    "    delta_z_h = sigmoid(a_h,derivative=True)\n",
    "    delta_w01 = X\n",
    "    delta_hidden_layer = np.dot(delta_w01.T, delta_a_h * delta_z_h)\n",
    "\n",
    "    # Adjust weights\n",
    "    w01 = w01 - eta * delta_hidden_layer\n",
    "    w12 = w12 - eta * delta_output_layer\n",
    "    \n",
    "    if (epoch % 100 == 0):\n",
    "        print(\"Epoch: {0:}/{1:} Total Error {2:0.4f}\".format(epoch,epochs,a_o_error.sum()))"
   ]
  },
  {
   "cell_type": "code",
   "execution_count": 11,
   "metadata": {},
   "outputs": [],
   "source": [
    "#a_o_err_y[:,0]"
   ]
  },
  {
   "cell_type": "markdown",
   "metadata": {},
   "source": [
    "# Show final total error, type contribution to error"
   ]
  },
  {
   "cell_type": "code",
   "execution_count": 12,
   "metadata": {},
   "outputs": [],
   "source": [
    "#print(a_o_error.shape)\n",
    "#print(a_o_err_y0)\n",
    "#print (a_o_err_y[:,5])\n",
    "#print(error_total.shape)"
   ]
  },
  {
   "cell_type": "code",
   "execution_count": 13,
   "metadata": {},
   "outputs": [
    {
     "name": "stdout",
     "output_type": "stream",
     "text": [
      "Type 0 error:0.0351\n",
      "Type 1 error:1.7488\n",
      "Type 2 error:1.6677\n",
      "Total error:3.4516\n"
     ]
    }
   ],
   "source": [
    "print(\"Type 0 error:{0:.4f}\".format(a_o_err_y0.sum()))\n",
    "print(\"Type 1 error:{0:.4f}\".format(a_o_err_y1.sum()))\n",
    "print(\"Type 2 error:{0:.4f}\".format(a_o_err_y2.sum()))\n",
    "print(\"Total error:{0:.4f}\".format(a_o_error.sum()))"
   ]
  },
  {
   "cell_type": "markdown",
   "metadata": {},
   "source": [
    "# Plot error (SSE)"
   ]
  },
  {
   "cell_type": "code",
   "execution_count": 14,
   "metadata": {},
   "outputs": [
    {
     "data": {
      "text/plain": [
       "[<matplotlib.lines.Line2D at 0x1a27fd37f0>]"
      ]
     },
     "execution_count": 14,
     "metadata": {},
     "output_type": "execute_result"
    },
    {
     "data": {
      "image/png": "[encoded data removed]",
      "text/plain": [
       "<Figure size 432x288 with 1 Axes>"
      ]
     },
     "metadata": {},
     "output_type": "display_data"
    }
   ],
   "source": [
    "#plt.plot(error_total)\n",
    "plt.plot(error_total0)\n",
    "plt.plot(error_total1)\n",
    "plt.plot(error_total2)"
   ]
  },
  {
   "cell_type": "markdown",
   "metadata": {},
   "source": [
    "# Plot error (MSE)"
   ]
  },
  {
   "cell_type": "code",
   "execution_count": 15,
   "metadata": {},
   "outputs": [
    {
     "data": {
      "text/plain": [
       "[<matplotlib.lines.Line2D at 0x1a2a0d5128>]"
      ]
     },
     "execution_count": 15,
     "metadata": {},
     "output_type": "execute_result"
    },
    {
     "data": {
      "image/png": "[encoded data removed]",
      "text/plain": [
       "<Figure size 432x288 with 1 Axes>"
      ]
     },
     "metadata": {},
     "output_type": "display_data"
    }
   ],
   "source": [
    "# Dividing by 75 instead of 150, as we already did 1/2 while calculating \"\"\n",
    "# plt.plot(error_total)\n",
    "\n",
    "plt.plot(error_total0/75)\n",
    "plt.plot(error_total1/75)\n",
    "plt.plot(error_total2/75)"
   ]
  },
  {
   "cell_type": "markdown",
   "metadata": {},
   "source": [
    "# Show independent, dependent, predicted values"
   ]
  },
  {
   "cell_type": "code",
   "execution_count": 16,
   "metadata": {},
   "outputs": [],
   "source": [
    "a_o, a_h = feedforward(X)"
   ]
  },
  {
   "cell_type": "code",
   "execution_count": 17,
   "metadata": {},
   "outputs": [
    {
     "name": "stdout",
     "output_type": "stream",
     "text": [
      "[[1.     0.     0.     0.9752 0.0293 0.0006]\n",
      " [1.     0.     0.     0.972  0.037  0.0007]\n",
      " [1.     0.     0.     0.974  0.0323 0.0006]\n",
      " [1.     0.     0.     0.9707 0.038  0.0007]\n",
      " [1.     0.     0.     0.9754 0.0284 0.0006]\n",
      " [1.     0.     0.     0.9749 0.0278 0.0006]\n",
      " [1.     0.     0.     0.9738 0.0311 0.0006]\n",
      " [1.     0.     0.     0.974  0.0317 0.0006]\n",
      " [1.     0.     0.     0.9694 0.0413 0.0007]\n",
      " [1.     0.     0.     0.9722 0.0367 0.0007]\n",
      " [1.     0.     0.     0.9757 0.028  0.0006]\n",
      " [1.     0.     0.     0.9726 0.0335 0.0007]\n",
      " [1.     0.     0.     0.9723 0.037  0.0007]\n",
      " [1.     0.     0.     0.9742 0.0332 0.0006]\n",
      " [1.     0.     0.     0.9772 0.0248 0.0006]\n",
      " [1.     0.     0.     0.977  0.0235 0.0006]\n",
      " [1.     0.     0.     0.9765 0.0254 0.0006]\n",
      " [1.     0.     0.     0.975  0.0293 0.0006]\n",
      " [1.     0.     0.     0.9751 0.0285 0.0006]\n",
      " [1.     0.     0.     0.9755 0.0273 0.0006]\n",
      " [1.     0.     0.     0.9728 0.034  0.0006]\n",
      " [1.     0.     0.     0.9749 0.0282 0.0006]\n",
      " [1.     0.     0.     0.9765 0.0264 0.0006]\n",
      " [1.     0.     0.     0.9687 0.0388 0.0007]\n",
      " [1.     0.     0.     0.9674 0.0413 0.0007]\n",
      " [1.     0.     0.     0.9691 0.0421 0.0007]\n",
      " [1.     0.     0.     0.972  0.0337 0.0007]\n",
      " [1.     0.     0.     0.9747 0.0302 0.0006]\n",
      " [1.     0.     0.     0.9749 0.0303 0.0006]\n",
      " [1.     0.     0.     0.9705 0.0378 0.0007]\n",
      " [1.     0.     0.     0.9696 0.04   0.0007]\n",
      " [1.     0.     0.     0.9739 0.0313 0.0006]\n",
      " [1.     0.     0.     0.9766 0.0254 0.0006]\n",
      " [1.     0.     0.     0.977  0.0244 0.0006]\n",
      " [1.     0.     0.     0.9716 0.0371 0.0007]\n",
      " [1.     0.     0.     0.9751 0.0309 0.0006]\n",
      " [1.     0.     0.     0.976  0.0285 0.0006]\n",
      " [1.     0.     0.     0.9755 0.0285 0.0006]\n",
      " [1.     0.     0.     0.972  0.0363 0.0007]\n",
      " [1.     0.     0.     0.9741 0.0315 0.0006]\n",
      " [1.     0.     0.     0.9754 0.0285 0.0006]\n",
      " [1.     0.     0.     0.9588 0.0652 0.0008]\n",
      " [1.     0.     0.     0.9735 0.0328 0.0006]\n",
      " [1.     0.     0.     0.9717 0.0328 0.0007]\n",
      " [1.     0.     0.     0.9718 0.0322 0.0007]\n",
      " [1.     0.     0.     0.9711 0.0377 0.0007]\n",
      " [1.     0.     0.     0.9752 0.028  0.0006]\n",
      " [1.     0.     0.     0.9729 0.0339 0.0007]\n",
      " [1.     0.     0.     0.9756 0.0281 0.0006]\n",
      " [1.     0.     0.     0.9742 0.0318 0.0006]\n",
      " [0.     1.     0.     0.0349 0.9829 0.0087]\n",
      " [0.     1.     0.     0.0321 0.9792 0.0106]\n",
      " [0.     1.     0.     0.0292 0.9793 0.0121]\n",
      " [0.     1.     0.     0.0144 0.9402 0.0481]\n",
      " [0.     1.     0.     0.0245 0.9734 0.0173]\n",
      " [0.     1.     0.     0.0145 0.9374 0.0474]\n",
      " [0.     1.     0.     0.0254 0.9705 0.0167]\n",
      " [0.     1.     0.     0.0393 0.9788 0.0093]\n",
      " [0.     1.     0.     0.0317 0.9822 0.0103]\n",
      " [0.     1.     0.     0.0183 0.9492 0.033 ]\n",
      " [0.     1.     0.     0.0243 0.9739 0.019 ]\n",
      " [0.     1.     0.     0.0288 0.9748 0.0135]\n",
      " [0.     1.     0.     0.0318 0.9847 0.0104]\n",
      " [0.     1.     0.     0.0168 0.9505 0.0358]\n",
      " [0.     1.     0.     0.0427 0.9778 0.008 ]\n",
      " [0.     1.     0.     0.0359 0.9823 0.0085]\n",
      " [0.     1.     0.     0.0095 0.8687 0.1012]\n",
      " [0.     1.     0.     0.0342 0.9828 0.0095]\n",
      " [0.     1.     0.     0.0046 0.7135 0.2917]\n",
      " [0.     1.     0.     0.0317 0.9809 0.0112]\n",
      " [0.     1.     0.     0.0031 0.486  0.4715]\n",
      " [0.     1.     0.     0.0359 0.9818 0.0089]\n",
      " [0.     1.     0.     0.0027 0.49   0.5259]\n",
      " [0.     1.     0.     0.0216 0.9691 0.0221]\n",
      " [0.     1.     0.     0.0345 0.9825 0.0091]\n",
      " [0.     1.     0.     0.0344 0.9822 0.0091]\n",
      " [0.     1.     0.     0.0273 0.9789 0.0137]\n",
      " [0.     1.     0.     0.0126 0.9204 0.06  ]\n",
      " [0.     1.     0.     0.0182 0.9538 0.0314]\n",
      " [0.     1.     0.     0.0457 0.9803 0.0073]\n",
      " [0.     1.     0.     0.031  0.9804 0.0117]\n",
      " [0.     1.     0.     0.0352 0.9826 0.0095]\n",
      " [0.     1.     0.     0.0353 0.9814 0.0094]\n",
      " [0.     1.     0.     0.0008 0.1024 0.9152]\n",
      " [0.     1.     0.     0.005  0.6913 0.2687]\n",
      " [0.     1.     0.     0.0276 0.9715 0.0147]\n",
      " [0.     1.     0.     0.0305 0.9797 0.0113]\n",
      " [0.     1.     0.     0.0209 0.9707 0.0229]\n",
      " [0.     1.     0.     0.0313 0.9768 0.0118]\n",
      " [0.     1.     0.     0.0207 0.9636 0.0251]\n",
      " [0.     1.     0.     0.0108 0.9067 0.079 ]\n",
      " [0.     1.     0.     0.0234 0.9694 0.0193]\n",
      " [0.     1.     0.     0.0317 0.9807 0.011 ]\n",
      " [0.     1.     0.     0.0383 0.98   0.0094]\n",
      " [0.     1.     0.     0.0211 0.9643 0.0239]\n",
      " [0.     1.     0.     0.0322 0.9789 0.0109]\n",
      " [0.     1.     0.     0.0283 0.9755 0.0139]\n",
      " [0.     1.     0.     0.0328 0.9812 0.0101]\n",
      " [0.     1.     0.     0.0588 0.9719 0.0067]\n",
      " [0.     1.     0.     0.0291 0.9767 0.0132]\n",
      " [0.     0.     1.     0.0005 0.04   0.9668]\n",
      " [0.     0.     1.     0.0005 0.0529 0.9593]\n",
      " [0.     0.     1.     0.0006 0.0576 0.9533]\n",
      " [0.     0.     1.     0.0006 0.0572 0.9557]\n",
      " [0.     0.     1.     0.0005 0.0455 0.9642]\n",
      " [0.     0.     1.     0.0005 0.0506 0.9628]\n",
      " [0.     0.     1.     0.0005 0.0543 0.9593]\n",
      " [0.     0.     1.     0.0006 0.0619 0.9546]\n",
      " [0.     0.     1.     0.0005 0.0577 0.9611]\n",
      " [0.     0.     1.     0.0005 0.0461 0.9579]\n",
      " [0.     0.     1.     0.0022 0.3471 0.626 ]\n",
      " [0.     0.     1.     0.0006 0.066  0.9477]\n",
      " [0.     0.     1.     0.0007 0.072  0.937 ]\n",
      " [0.     0.     1.     0.0005 0.0498 0.9635]\n",
      " [0.     0.     1.     0.0005 0.0429 0.9656]\n",
      " [0.     0.     1.     0.0006 0.0541 0.9509]\n",
      " [0.     0.     1.     0.0008 0.0901 0.9218]\n",
      " [0.     0.     1.     0.0006 0.0582 0.9466]\n",
      " [0.     0.     1.     0.0005 0.0512 0.9663]\n",
      " [0.     0.     1.     0.0006 0.0838 0.9424]\n",
      " [0.     0.     1.     0.0006 0.0532 0.9534]\n",
      " [0.     0.     1.     0.0005 0.0511 0.9585]\n",
      " [0.     0.     1.     0.0005 0.0536 0.9634]\n",
      " [0.     0.     1.     0.0014 0.2224 0.7874]\n",
      " [0.     0.     1.     0.0006 0.0625 0.9439]\n",
      " [0.     0.     1.     0.001  0.1447 0.867 ]\n",
      " [0.     0.     1.     0.0021 0.3567 0.6351]\n",
      " [0.     0.     1.     0.0019 0.3073 0.6814]\n",
      " [0.     0.     1.     0.0005 0.0485 0.9631]\n",
      " [0.     0.     1.     0.0027 0.4894 0.5147]\n",
      " [0.     0.     1.     0.0006 0.0683 0.9485]\n",
      " [0.     0.     1.     0.0041 0.6145 0.3403]\n",
      " [0.     0.     1.     0.0005 0.0467 0.9643]\n",
      " [0.     0.     1.     0.0029 0.5139 0.4856]\n",
      " [0.     0.     1.     0.0006 0.0678 0.9535]\n",
      " [0.     0.     1.     0.0006 0.059  0.9514]\n",
      " [0.     0.     1.     0.0005 0.0425 0.9626]\n",
      " [0.     0.     1.     0.0008 0.0884 0.9218]\n",
      " [0.     0.     1.     0.0022 0.3522 0.6291]\n",
      " [0.     0.     1.     0.0011 0.144  0.8584]\n",
      " [0.     0.     1.     0.0005 0.0461 0.9609]\n",
      " [0.     0.     1.     0.0015 0.2194 0.7662]\n",
      " [0.     0.     1.     0.0005 0.0529 0.9593]\n",
      " [0.     0.     1.     0.0005 0.0456 0.9621]\n",
      " [0.     0.     1.     0.0005 0.0433 0.9622]\n",
      " [0.     0.     1.     0.0007 0.073  0.9325]\n",
      " [0.     0.     1.     0.0007 0.0768 0.9389]\n",
      " [0.     0.     1.     0.0009 0.1168 0.8894]\n",
      " [0.     0.     1.     0.0006 0.0478 0.9564]\n",
      " [0.     0.     1.     0.0007 0.0813 0.9279]]\n"
     ]
    }
   ],
   "source": [
    "print(np.concatenate((y,a_o),axis=1))"
   ]
  },
  {
   "cell_type": "code",
   "execution_count": 18,
   "metadata": {},
   "outputs": [],
   "source": [
    "a_o = np.argmax(a_o, axis=1)"
   ]
  },
  {
   "cell_type": "code",
   "execution_count": 19,
   "metadata": {},
   "outputs": [
    {
     "data": {
      "text/plain": [
       "array([0, 0, 0, 0, 0, 0, 0, 0, 0, 0, 0, 0, 0, 0, 0, 0, 0, 0, 0, 0, 0, 0,\n",
       "       0, 0, 0, 0, 0, 0, 0, 0, 0, 0, 0, 0, 0, 0, 0, 0, 0, 0, 0, 0, 0, 0,\n",
       "       0, 0, 0, 0, 0, 0])"
      ]
     },
     "execution_count": 19,
     "metadata": {},
     "output_type": "execute_result"
    }
   ],
   "source": [
    "a_o[:50]"
   ]
  },
  {
   "cell_type": "code",
   "execution_count": 20,
   "metadata": {},
   "outputs": [
    {
     "data": {
      "text/plain": [
       "array([1, 1, 1, 1, 1, 1, 1, 1, 1, 1, 1, 1, 1, 1, 1, 1, 1, 1, 1, 1, 1, 1,\n",
       "       2, 1, 1, 1, 1, 1, 1, 1, 1, 1, 1, 2, 1, 1, 1, 1, 1, 1, 1, 1, 1, 1,\n",
       "       1, 1, 1, 1, 1, 1])"
      ]
     },
     "execution_count": 20,
     "metadata": {},
     "output_type": "execute_result"
    }
   ],
   "source": [
    "a_o[50:100]"
   ]
  },
  {
   "cell_type": "code",
   "execution_count": 21,
   "metadata": {},
   "outputs": [
    {
     "data": {
      "text/plain": [
       "array([2, 2, 2, 2, 2, 2, 2, 2, 2, 2, 2, 2, 2, 2, 2, 2, 2, 2, 2, 2, 2, 2,\n",
       "       2, 2, 2, 2, 2, 2, 2, 2, 2, 1, 2, 1, 2, 2, 2, 2, 2, 2, 2, 2, 2, 2,\n",
       "       2, 2, 2, 2, 2, 2])"
      ]
     },
     "execution_count": 21,
     "metadata": {},
     "output_type": "execute_result"
    }
   ],
   "source": [
    "a_o[100:]"
   ]
  },
  {
   "cell_type": "markdown",
   "metadata": {},
   "source": [
    "# Compute confusion matrix\n",
    "### Classification Report (Precision/Recall)\n",
    "- **Precision**: Focuses on your predictions. It is measuring what fraction of your predictions for the positive class are valid. It is formulated by (TP/TP+FP).\n",
    "- **Recall**: Focuses on all of the possible positive classes. It's telling you how often your predictions actually capture the positive class. It is formulated by (TP/TP+FN).\n",
    "- **F1-Score**: Tells you the accuracy of the classifier in classifying the data points in that particular class compared to all other class. It is calculated by taking the harmonic mean of precision and recall.\n",
    "- **Support**: The support is the number of samples of the true response that lies in that class.\n",
    "\n",
    "\n",
    "### So...Recall or Precision?\n",
    "\n",
    "It depends on how much cost/weight you want on your two types of errors: (1) **False Positives** or (2) **False Negatives**\n",
    "\n",
    "What's the coset of having a FN and FP?\n",
    "\n",
    "**Optimize Recall When:**\n",
    "- You want to limit false negatives \n",
    "- You will get more False Positives\n",
    "- When you want to peanlize FN more than FP\n",
    "- Example: Predicting Cancer Patients or Credit Card Fraud\n",
    "\n",
    "**Optimize Precision When:**\n",
    "- You want to limit false positives \n",
    "- When you want to peanlize FP more than FN\n",
    "- Example: Spam VS Not Spam\n"
   ]
  },
  {
   "cell_type": "code",
   "execution_count": 22,
   "metadata": {},
   "outputs": [
    {
     "name": "stdout",
     "output_type": "stream",
     "text": [
      "[[50  0  0]\n",
      " [ 0 48  2]\n",
      " [ 0  2 48]]\n"
     ]
    }
   ],
   "source": [
    "from sklearn import metrics\n",
    "# Print Confusion Matrix\n",
    "print (metrics.confusion_matrix(iris.target, a_o))"
   ]
  },
  {
   "cell_type": "code",
   "execution_count": 23,
   "metadata": {},
   "outputs": [
    {
     "name": "stdout",
     "output_type": "stream",
     "text": [
      "              precision    recall  f1-score   support\n",
      "\n",
      "           0       1.00      1.00      1.00        50\n",
      "           1       0.96      0.96      0.96        50\n",
      "           2       0.96      0.96      0.96        50\n",
      "\n",
      "   micro avg       0.97      0.97      0.97       150\n",
      "   macro avg       0.97      0.97      0.97       150\n",
      "weighted avg       0.97      0.97      0.97       150\n",
      "\n"
     ]
    }
   ],
   "source": [
    "print (metrics.classification_report(iris.target, a_o))"
   ]
  },
  {
   "cell_type": "code",
   "execution_count": 24,
   "metadata": {},
   "outputs": [
    {
     "name": "stdout",
     "output_type": "stream",
     "text": [
      "0.973\n"
     ]
    }
   ],
   "source": [
    "print(\"{0:0.3f}\".format(metrics.accuracy_score(iris.target, a_o)))"
   ]
  },
  {
   "cell_type": "code",
   "execution_count": null,
   "metadata": {},
   "outputs": [],
   "source": []
  }
 ],
 "metadata": {
  "kernelspec": {
   "display_name": "Python 3",
   "language": "python",
   "name": "python3"
  },
  "language_info": {
   "codemirror_mode": {
    "name": "ipython",
    "version": 3
   },
   "file_extension": ".py",
   "mimetype": "text/x-python",
   "name": "python",
   "nbconvert_exporter": "python",
   "pygments_lexer": "ipython3",
   "version": "3.6.5"
  }
 },
 "nbformat": 4,
 "nbformat_minor": 2
}
